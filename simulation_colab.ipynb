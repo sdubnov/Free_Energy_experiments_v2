{
  "cells": [
    {
      "cell_type": "markdown",
      "source": [
        "### Run this using the button or type githubtocolab.com in the url\n",
        "\n",
        "[![Open In Colab](https://colab.research.google.com/assets/colab-badge.svg)](https://colab.research.google.com/github.com/sdubnov/Free_Energy_experiments_v2/blob/main/simulation_colab.ipynb)\n",
        "\n"
      ],
      "metadata": {
        "id": "B7AA68NamxTk"
      }
    },
    {
      "cell_type": "markdown",
      "source": [
        "## Romain Brette's food vs. no food thought experiment: \n",
        "1. Does our neural network converge? \n",
        "2. What food policy does it converge to? "
      ],
      "metadata": {
        "id": "gmxYNayqe9zJ"
      }
    },
    {
      "cell_type": "code",
      "source": [
        "from google.colab import drive\n",
        "drive.mount('/content/drive')"
      ],
      "metadata": {
        "id": "wkB298f5fHn9",
        "outputId": "a940fcf2-b2d2-4416-969d-cb628f121b0b",
        "colab": {
          "base_uri": "https://localhost:8080/"
        }
      },
      "execution_count": 2,
      "outputs": [
        {
          "output_type": "stream",
          "name": "stdout",
          "text": [
            "Mounted at /content/drive\n"
          ]
        }
      ]
    },
    {
      "cell_type": "code",
      "source": [
        "!git clone https://github.com/sdubnov/Free_Energy_experiments_v2.git"
      ],
      "metadata": {
        "id": "4wyuhU0NfJVk",
        "outputId": "f544eb7d-a1d5-442e-f396-aeff40846ff0",
        "colab": {
          "base_uri": "https://localhost:8080/"
        }
      },
      "execution_count": 3,
      "outputs": [
        {
          "output_type": "stream",
          "name": "stdout",
          "text": [
            "Cloning into 'Free_Energy_experiments_v2'...\n",
            "remote: Enumerating objects: 25, done.\u001b[K\n",
            "remote: Counting objects: 100% (25/25), done.\u001b[K\n",
            "remote: Compressing objects: 100% (25/25), done.\u001b[K\n",
            "remote: Total 25 (delta 9), reused 0 (delta 0), pack-reused 0\u001b[K\n",
            "Unpacking objects: 100% (25/25), 48.68 KiB | 1.87 MiB/s, done.\n"
          ]
        }
      ]
    },
    {
      "cell_type": "code",
      "source": [
        "%cd /content/Free_Energy_experiments_v2"
      ],
      "metadata": {
        "id": "XqhYe1KHf1c-",
        "outputId": "3595da46-d96a-439c-d8d3-08d364a00cc6",
        "colab": {
          "base_uri": "https://localhost:8080/"
        }
      },
      "execution_count": 5,
      "outputs": [
        {
          "output_type": "stream",
          "name": "stdout",
          "text": [
            "/content/Free_Energy_experiments_v2\n"
          ]
        }
      ]
    },
    {
      "cell_type": "markdown",
      "source": [
        "## Load the main classes and libraries: "
      ],
      "metadata": {
        "id": "7Ga1XxY7e9zN"
      }
    },
    {
      "cell_type": "code",
      "source": [
        "import matplotlib.pyplot as plt\n",
        "import numpy as np\n",
        "\n",
        "from free_energy_agent import free_agent\n",
        "from train import train"
      ],
      "outputs": [],
      "execution_count": 6,
      "metadata": {
        "outputHidden": false,
        "inputHidden": false,
        "id": "H3nSMN80e9zN"
      }
    },
    {
      "cell_type": "markdown",
      "source": [
        "## Run simulation: "
      ],
      "metadata": {
        "id": "v8bEIh7Ue9zO"
      }
    },
    {
      "cell_type": "code",
      "source": [
        "## define number of epochs:\n",
        "epochs = 1000 \n",
        "batch_size = 50\n",
        "\n",
        "## define main parameters:\n",
        "basic_needs = 3.0 ## average food consumption per day in order to maintain homeostatic conditions\n",
        "success_probability = 0.2 ## the probability that looking for food(i.e. hunting) results in food(i.e. success)\n",
        "\n",
        "loss, food_policies, total_consumption = train(epochs,batch_size,basic_needs,success_probability)"
      ],
      "outputs": [
        {
          "output_type": "stream",
          "name": "stderr",
          "text": [
            "WARNING:tensorflow:From /usr/local/lib/python3.8/dist-packages/tensorflow/python/training/adagrad.py:138: calling Constant.__init__ (from tensorflow.python.ops.init_ops) with dtype is deprecated and will be removed in a future version.\n",
            "Instructions for updating:\n",
            "Call initializer instance with the dtype argument instead of passing it to the constructor\n"
          ]
        }
      ],
      "execution_count": 7,
      "metadata": {
        "outputHidden": false,
        "inputHidden": false,
        "id": "LVcEAf3ie9zP",
        "outputId": "b850451e-6a5e-491f-b6d8-843f81b578ff",
        "colab": {
          "base_uri": "https://localhost:8080/"
        }
      }
    },
    {
      "cell_type": "code",
      "source": [
        "food_policies"
      ],
      "metadata": {
        "id": "BLQkHgKTgh65",
        "outputId": "6ad8a3f3-e5ba-4733-b462-ac9f40004c35",
        "colab": {
          "base_uri": "https://localhost:8080/"
        }
      },
      "execution_count": 9,
      "outputs": [
        {
          "output_type": "execute_result",
          "data": {
            "text/plain": [
              "array([[0.62543148, 0.55778158, 0.44413552, 0.65930867, 0.4859288 ,\n",
              "        0.42874309, 0.49824437, 0.54304326, 0.45253226, 0.49079433,\n",
              "        0.55446428, 0.57325053, 0.54669803, 0.40833002, 0.60602856,\n",
              "        0.4856824 , 0.5186342 , 0.35248846, 0.36111549, 0.39125612,\n",
              "        0.28188115, 0.41917765, 0.52450496, 0.48590365],\n",
              "       [0.92011929, 0.62425369, 0.38899571, 0.93652481, 0.47132701,\n",
              "        0.41131207, 0.90090191, 0.56033063, 0.45790824, 0.55293131,\n",
              "        0.58266532, 0.62787062, 0.51907027, 0.48441753, 0.62746388,\n",
              "        0.44019014, 0.55891263, 0.47599274, 0.40591782, 0.37056211,\n",
              "        0.35780093, 0.40429971, 0.60803473, 0.47222453],\n",
              "       [0.96463329, 0.64827764, 0.36736789, 0.97132337, 0.45957208,\n",
              "        0.40262479, 0.95861393, 0.56827497, 0.46168545, 0.57289052,\n",
              "        0.58749616, 0.64630729, 0.51037896, 0.51328099, 0.63357753,\n",
              "        0.42845958, 0.57647848, 0.52248025, 0.42231485, 0.36231196,\n",
              "        0.38554522, 0.40441814, 0.63645399, 0.4686304 ],\n",
              "       [0.97887659, 0.66144031, 0.35561168, 0.98253059, 0.45143116,\n",
              "        0.39733312, 0.97587377, 0.57371783, 0.4641313 , 0.58411318,\n",
              "        0.58901179, 0.65636837, 0.50517082, 0.52968913, 0.63648766,\n",
              "        0.42327863, 0.58670932, 0.54848015, 0.43132335, 0.35749537,\n",
              "        0.40138352, 0.40586668, 0.65140903, 0.46669099],\n",
              "       [0.98544604, 0.67020017, 0.34776855, 0.98778433, 0.44540775,\n",
              "        0.3936145 , 0.98359472, 0.57780689, 0.4659279 , 0.59175807,\n",
              "        0.58957559, 0.66308385, 0.50149107, 0.5409041 , 0.63828886,\n",
              "        0.4203783 , 0.59373248, 0.56608027, 0.43738425, 0.35412568,\n",
              "        0.41235358, 0.40734425, 0.66120404, 0.46546194],\n",
              "       [0.98911184, 0.67664391, 0.34196648, 0.99075812, 0.44068617,\n",
              "        0.39078194, 0.98783016, 0.581056  , 0.46734837, 0.59745222,\n",
              "        0.58975476, 0.66807157, 0.49868685, 0.54930705, 0.63955277,\n",
              "        0.41850904, 0.59901297, 0.57917309, 0.44191304, 0.35156825,\n",
              "        0.42067397, 0.4086796 , 0.66835892, 0.46464267],\n",
              "       [0.9914099 , 0.68168461, 0.337401  , 0.99264419, 0.43682697,\n",
              "        0.38850835, 0.99045575, 0.58374321, 0.46852443, 0.60194755,\n",
              "        0.58975333, 0.67200917, 0.49643558, 0.5559752 , 0.64051008,\n",
              "        0.41720349, 0.60321432, 0.58950001, 0.44550851, 0.34952027,\n",
              "        0.4273456 , 0.40987101, 0.67393786, 0.46406439],\n",
              "       [0.99296755, 0.68579429, 0.3336589 , 0.99393481, 0.43357629,\n",
              "        0.38661754, 0.99222118, 0.5860303 , 0.46952835, 0.60564101,\n",
              "        0.58965856, 0.67524356, 0.49456134, 0.5614754 , 0.64127195,\n",
              "        0.416244  , 0.60668695, 0.59797436, 0.44847867, 0.3478184 ,\n",
              "        0.43289903, 0.41093895, 0.67847914, 0.46363702],\n",
              "       [0.99408418, 0.68924582, 0.33050108, 0.99486732, 0.43077585,\n",
              "        0.3850041 , 0.99347901, 0.58801901, 0.47040403, 0.60876352,\n",
              "        0.58951259, 0.67797619, 0.49295944, 0.5661391 , 0.64190066,\n",
              "        0.41551256, 0.60963601, 0.60512757, 0.45100269, 0.34636682,\n",
              "        0.43764609, 0.4119027 , 0.68228972, 0.46330997],\n",
              "       [0.99491894, 0.69220972, 0.32777792, 0.99556923, 0.42832083,\n",
              "        0.38360032, 0.99441481, 0.58977675, 0.4711805 , 0.61146045,\n",
              "        0.5893383 , 0.68033487, 0.49156311, 0.57017672, 0.64243269,\n",
              "        0.41493979, 0.61219281, 0.61129546, 0.45319313, 0.3451038 ,\n",
              "        0.44178545, 0.41277966, 0.685561  , 0.46305385]])"
            ]
          },
          "metadata": {},
          "execution_count": 9
        }
      ]
    },
    {
      "cell_type": "markdown",
      "source": [
        "## Inspect the loss to check convergence: "
      ],
      "metadata": {
        "id": "HpNVnpOJe9zP"
      }
    },
    {
      "cell_type": "code",
      "source": [
        "%matplotlib inline\n",
        "\n",
        "plt.figure(figsize=(10,10))\n",
        "\n",
        "plt.plot(loss)\n",
        "\n",
        "plt.style.use('ggplot')\n",
        "\n",
        "plt.title('loss')\n",
        "\n",
        "plt.show()"
      ],
      "outputs": [
        {
          "output_type": "display_data",
          "data": {
            "text/plain": [
              "<Figure size 720x720 with 1 Axes>"
            ],
            "image/png": "[encoded data removed]"
          },
          "metadata": {
            "needs_background": "light"
          }
        }
      ],
      "execution_count": 10,
      "metadata": {
        "id": "qDe2LkKoe9zQ",
        "outputId": "2a41539e-7f47-41a7-9c81-30148c3c1b79",
        "colab": {
          "base_uri": "https://localhost:8080/",
          "height": 609
        }
      }
    },
    {
      "cell_type": "markdown",
      "source": [
        "## What food strategy does the agent converge to?"
      ],
      "metadata": {
        "id": "zlZ2OODve9zR"
      }
    },
    {
      "cell_type": "code",
      "source": [
        "food_policies[-1]"
      ],
      "outputs": [
        {
          "output_type": "execute_result",
          "data": {
            "text/plain": [
              "array([0.99491894, 0.69220972, 0.32777792, 0.99556923, 0.42832083,\n",
              "       0.38360032, 0.99441481, 0.58977675, 0.4711805 , 0.61146045,\n",
              "       0.5893383 , 0.68033487, 0.49156311, 0.57017672, 0.64243269,\n",
              "       0.41493979, 0.61219281, 0.61129546, 0.45319313, 0.3451038 ,\n",
              "       0.44178545, 0.41277966, 0.685561  , 0.46305385])"
            ]
          },
          "metadata": {},
          "execution_count": 11
        }
      ],
      "execution_count": 11,
      "metadata": {
        "outputHidden": false,
        "inputHidden": false,
        "id": "PtynzE5me9zS",
        "outputId": "a2dda40b-9b66-4475-916f-eb11588df7fa",
        "colab": {
          "base_uri": "https://localhost:8080/"
        }
      }
    },
    {
      "cell_type": "code",
      "source": [
        "def hunt():\n",
        "  return np.random.choice((0.0,1.0),size=24,p=(1-success_probability,success_probability))\n",
        "print(hunt())"
      ],
      "metadata": {
        "id": "JMLlH5cXhMRU",
        "outputId": "6694191d-1f89-4c1f-ef93-40adaab72edd",
        "colab": {
          "base_uri": "https://localhost:8080/"
        }
      },
      "execution_count": 46,
      "outputs": [
        {
          "output_type": "stream",
          "name": "stdout",
          "text": [
            "[0. 0. 0. 0. 1. 0. 0. 0. 1. 0. 0. 0. 0. 0. 1. 0. 0. 0. 1. 1. 1. 0. 0. 0.]\n"
          ]
        }
      ]
    },
    {
      "cell_type": "code",
      "source": [
        "#help(np.random.choice)"
      ],
      "metadata": {
        "id": "iH5Jpdunhs9T"
      },
      "execution_count": 31,
      "outputs": []
    },
    {
      "cell_type": "code",
      "source": [
        "np.mean([np.dot(food_policies[-1],hunt()) for i in range(100)])"
      ],
      "outputs": [
        {
          "output_type": "execute_result",
          "data": {
            "text/plain": [
              "2.7162390133738517"
            ]
          },
          "metadata": {},
          "execution_count": 50
        }
      ],
      "execution_count": 50,
      "metadata": {
        "outputHidden": false,
        "inputHidden": false,
        "id": "_PxkEI6ve9zT",
        "outputId": "36762f8f-c694-49c5-b3d0-a81f112c382d",
        "colab": {
          "base_uri": "https://localhost:8080/"
        }
      }
    },
    {
      "cell_type": "markdown",
      "source": [
        "### Note that the discovered food policy differs significantly from Romain's expectation that the agent would choose to not look for food in order to minimise surprisal. In fact, our simple agent manages to get three meals per day on average. "
      ],
      "metadata": {
        "id": "jZk9m_XMe9zU"
      }
    }
  ],
  "metadata": {
    "kernel_info": {
      "name": "python3"
    },
    "kernelspec": {
      "name": "python3",
      "language": "python",
      "display_name": "Python 3"
    },
    "language_info": {
      "name": "python",
      "version": "3.6.1",
      "mimetype": "text/x-python",
      "codemirror_mode": {
        "name": "ipython",
        "version": 3
      },
      "pygments_lexer": "ipython3",
      "nbconvert_exporter": "python",
      "file_extension": ".py"
    },
    "nteract": {
      "version": "0.8.4"
    },
    "colab": {
      "provenance": []
    }
  },
  "nbformat": 4,
  "nbformat_minor": 0
}