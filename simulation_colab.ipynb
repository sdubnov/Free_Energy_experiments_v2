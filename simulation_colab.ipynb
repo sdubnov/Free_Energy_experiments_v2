{
  "cells": [
    {
      "cell_type": "markdown",
      "source": [
        "### Run this using the button or type githubtocolab.com in the url\n",
        "\n",
        "[![Open In Colab](https://colab.research.google.com/assets/colab-badge.svg)](https://colab.research.google.com/github/sdubnov/Free_Energy_experiments_v2/blob/main/simulation_colab.ipynb)\n",
        "\n"
      ],
      "metadata": {
        "id": "B7AA68NamxTk"
      }
    },
    {
      "cell_type": "markdown",
      "source": [
        "## Romain Brette's food vs. no food thought experiment: \n",
        "1. Does our neural network converge? \n",
        "2. What food policy does it converge to? "
      ],
      "metadata": {
        "id": "gmxYNayqe9zJ"
      }
    },
    {
      "cell_type": "code",
      "source": [
        "from google.colab import drive\n",
        "drive.mount('/content/drive')"
      ],
      "metadata": {
        "id": "wkB298f5fHn9",
        "outputId": "0349df5c-391f-4427-f242-79f55022fd25",
        "colab": {
          "base_uri": "https://localhost:8080/"
        }
      },
      "execution_count": 51,
      "outputs": [
        {
          "output_type": "stream",
          "name": "stdout",
          "text": [
            "Drive already mounted at /content/drive; to attempt to forcibly remount, call drive.mount(\"/content/drive\", force_remount=True).\n"
          ]
        }
      ]
    },
    {
      "cell_type": "code",
      "source": [
        "!git clone https://github.com/sdubnov/Free_Energy_experiments_v2.git"
      ],
      "metadata": {
        "id": "4wyuhU0NfJVk",
        "outputId": "2c6ab518-b799-4fde-f044-6d7c1f5701bc",
        "colab": {
          "base_uri": "https://localhost:8080/"
        }
      },
      "execution_count": 52,
      "outputs": [
        {
          "output_type": "stream",
          "name": "stdout",
          "text": [
            "Cloning into 'Free_Energy_experiments_v2'...\n",
            "remote: Enumerating objects: 31, done.\u001b[K\n",
            "remote: Counting objects:   3% (1/31)\u001b[K\rremote: Counting objects:   6% (2/31)\u001b[K\rremote: Counting objects:   9% (3/31)\u001b[K\rremote: Counting objects:  12% (4/31)\u001b[K\rremote: Counting objects:  16% (5/31)\u001b[K\rremote: Counting objects:  19% (6/31)\u001b[K\rremote: Counting objects:  22% (7/31)\u001b[K\rremote: Counting objects:  25% (8/31)\u001b[K\rremote: Counting objects:  29% (9/31)\u001b[K\rremote: Counting objects:  32% (10/31)\u001b[K\rremote: Counting objects:  35% (11/31)\u001b[K\rremote: Counting objects:  38% (12/31)\u001b[K\rremote: Counting objects:  41% (13/31)\u001b[K\rremote: Counting objects:  45% (14/31)\u001b[K\rremote: Counting objects:  48% (15/31)\u001b[K\rremote: Counting objects:  51% (16/31)\u001b[K\rremote: Counting objects:  54% (17/31)\u001b[K\rremote: Counting objects:  58% (18/31)\u001b[K\rremote: Counting objects:  61% (19/31)\u001b[K\rremote: Counting objects:  64% (20/31)\u001b[K\rremote: Counting objects:  67% (21/31)\u001b[K\rremote: Counting objects:  70% (22/31)\u001b[K\rremote: Counting objects:  74% (23/31)\u001b[K\rremote: Counting objects:  77% (24/31)\u001b[K\rremote: Counting objects:  80% (25/31)\u001b[K\rremote: Counting objects:  83% (26/31)\u001b[K\rremote: Counting objects:  87% (27/31)\u001b[K\rremote: Counting objects:  90% (28/31)\u001b[K\rremote: Counting objects:  93% (29/31)\u001b[K\rremote: Counting objects:  96% (30/31)\u001b[K\rremote: Counting objects: 100% (31/31)\u001b[K\rremote: Counting objects: 100% (31/31), done.\u001b[K\n",
            "remote: Compressing objects: 100% (31/31), done.\u001b[K\n",
            "remote: Total 31 (delta 12), reused 0 (delta 0), pack-reused 0\u001b[K\n",
            "Unpacking objects: 100% (31/31), 67.75 KiB | 2.71 MiB/s, done.\n"
          ]
        }
      ]
    },
    {
      "cell_type": "code",
      "source": [
        "%cd /content/Free_Energy_experiments_v2"
      ],
      "metadata": {
        "id": "XqhYe1KHf1c-",
        "outputId": "f321ed06-387c-4379-87af-45a84edb3750",
        "colab": {
          "base_uri": "https://localhost:8080/"
        }
      },
      "execution_count": 53,
      "outputs": [
        {
          "output_type": "stream",
          "name": "stdout",
          "text": [
            "/content/Free_Energy_experiments_v2\n"
          ]
        }
      ]
    },
    {
      "cell_type": "markdown",
      "source": [
        "## Load the main classes and libraries: "
      ],
      "metadata": {
        "id": "7Ga1XxY7e9zN"
      }
    },
    {
      "cell_type": "code",
      "source": [
        "import matplotlib.pyplot as plt\n",
        "import numpy as np\n",
        "\n",
        "from free_energy_agent import free_agent\n",
        "from train import train"
      ],
      "outputs": [],
      "execution_count": 54,
      "metadata": {
        "outputHidden": false,
        "inputHidden": false,
        "id": "H3nSMN80e9zN"
      }
    },
    {
      "cell_type": "markdown",
      "source": [
        "## Run simulation: "
      ],
      "metadata": {
        "id": "v8bEIh7Ue9zO"
      }
    },
    {
      "cell_type": "code",
      "source": [
        "## define number of epochs:\n",
        "epochs = 1000 \n",
        "batch_size = 50\n",
        "\n",
        "## define main parameters:\n",
        "basic_needs = 3.0 ## average food consumption per day in order to maintain homeostatic conditions\n",
        "success_probability = 0.2 ## the probability that looking for food(i.e. hunting) results in food(i.e. success)\n",
        "\n",
        "loss, food_policies, total_consumption = train(epochs,batch_size,basic_needs,success_probability)"
      ],
      "outputs": [],
      "execution_count": 55,
      "metadata": {
        "outputHidden": false,
        "inputHidden": false,
        "id": "LVcEAf3ie9zP"
      }
    },
    {
      "cell_type": "code",
      "source": [
        "food_policies"
      ],
      "metadata": {
        "id": "BLQkHgKTgh65",
        "outputId": "4f94047a-d0c6-40e5-d01f-552f712e5576",
        "colab": {
          "base_uri": "https://localhost:8080/"
        }
      },
      "execution_count": 56,
      "outputs": [
        {
          "output_type": "execute_result",
          "data": {
            "text/plain": [
              "array([[0.67814416, 0.38387716, 0.62936342, 0.39974084, 0.50366026,\n",
              "        0.47703204, 0.37939894, 0.60264546, 0.65136665, 0.53831923,\n",
              "        0.40027419, 0.50342244, 0.32608441, 0.36096573, 0.35890001,\n",
              "        0.44824308, 0.39723012, 0.51915753, 0.44440624, 0.54058301,\n",
              "        0.75304323, 0.7108677 , 0.52130306, 0.53205109],\n",
              "       [0.68064153, 0.34477258, 0.49258897, 0.4047401 , 0.47607079,\n",
              "        0.30416751, 0.43551552, 0.5908677 , 0.59235835, 0.63048035,\n",
              "        0.36965832, 0.54203027, 0.36815709, 0.88130915, 0.5288738 ,\n",
              "        0.46181372, 0.88851053, 0.53577149, 0.45381087, 0.47529039,\n",
              "        0.72697997, 0.72382402, 0.58848357, 0.50919431],\n",
              "       [0.68780828, 0.32445505, 0.44226494, 0.40498751, 0.46327862,\n",
              "        0.24908403, 0.45993251, 0.5887031 , 0.57032388, 0.66854781,\n",
              "        0.35732558, 0.55619407, 0.38596639, 0.95570177, 0.59026659,\n",
              "        0.46496403, 0.9569335 , 0.5407362 , 0.44974804, 0.45615983,\n",
              "        0.72212994, 0.72798282, 0.60782015, 0.50014472],\n",
              "       [0.69301212, 0.31304109, 0.416071  , 0.4047395 , 0.45656431,\n",
              "        0.22291911, 0.47314373, 0.58813024, 0.55886912, 0.68918341,\n",
              "        0.35029215, 0.5639348 , 0.39554763, 0.97512782, 0.62167919,\n",
              "        0.46657631, 0.97550589, 0.5432657 , 0.44623703, 0.44706318,\n",
              "        0.72055846, 0.73041201, 0.61722255, 0.49572876],\n",
              "       [0.6968981 , 0.30530247, 0.39895743, 0.40441108, 0.45217729,\n",
              "        0.20677751, 0.48198974, 0.58793026, 0.55133569, 0.70287961,\n",
              "        0.34544209, 0.56921732, 0.40198436, 0.98334938, 0.64195842,\n",
              "        0.46765763, 0.98349655, 0.54494554, 0.44344285, 0.44139639,\n",
              "        0.71984524, 0.73210138, 0.62317204, 0.49295267],\n",
              "       [0.69995493, 0.29951575, 0.386453  , 0.40408409, 0.44895965,\n",
              "        0.19545101, 0.48857844, 0.58786505, 0.54579324, 0.71296358,\n",
              "        0.34177801, 0.57319677, 0.40680426, 0.98773783, 0.65664029,\n",
              "        0.46846092, 0.98779994, 0.54618847, 0.4411597 , 0.43737513,\n",
              "        0.71945447, 0.73337418, 0.62743616, 0.49095643],\n",
              "       [0.70246232, 0.2949245 , 0.37669674, 0.40377516, 0.44643351,\n",
              "        0.18688583, 0.49380136, 0.58785605, 0.54144096, 0.72087085,\n",
              "        0.33885181, 0.57637328, 0.4106425 , 0.99041688, 0.66801792,\n",
              "        0.46910042, 0.99044192, 0.54717207, 0.43923092, 0.43430057,\n",
              "        0.71922028, 0.73438227, 0.6307174 , 0.48941019],\n",
              "       [0.7045812 , 0.29113561, 0.36874938, 0.40348777, 0.44436303,\n",
              "        0.18008241, 0.49811277, 0.58787429, 0.5378747 , 0.72733361,\n",
              "        0.3364253 , 0.57900918, 0.41382423, 0.99220175, 0.67723387,\n",
              "        0.46962973, 0.99220884, 0.54798293, 0.43756405, 0.43183306,\n",
              "        0.71907109, 0.73521125, 0.63336289, 0.48815408],\n",
              "       [0.70641214, 0.28792015, 0.36207539, 0.40322167, 0.44261426,\n",
              "        0.17448868, 0.50177491, 0.58790755, 0.5348652 , 0.73277253,\n",
              "        0.33435881, 0.58125639, 0.41653597, 0.99346602, 0.68493515,\n",
              "        0.47008052, 0.99346375, 0.54867136, 0.43609866, 0.429784  ,\n",
              "        0.71897256, 0.73591149, 0.63556671, 0.48709983],\n",
              "       [0.70802099, 0.2851316 , 0.35634246, 0.40297303, 0.44110337,\n",
              "        0.16977029, 0.50495124, 0.58794963, 0.53227019, 0.73745322,\n",
              "        0.33256438, 0.58320993, 0.41889831, 0.99440312, 0.69152039,\n",
              "        0.47047076, 0.99439591, 0.54927033, 0.4347899 , 0.42803824,\n",
              "        0.71890765, 0.73651695, 0.63744617, 0.48619255]])"
            ]
          },
          "metadata": {},
          "execution_count": 56
        }
      ]
    },
    {
      "cell_type": "markdown",
      "source": [
        "## Inspect the loss to check convergence: "
      ],
      "metadata": {
        "id": "HpNVnpOJe9zP"
      }
    },
    {
      "cell_type": "code",
      "source": [
        "%matplotlib inline\n",
        "\n",
        "plt.figure(figsize=(10,10))\n",
        "\n",
        "plt.plot(loss)\n",
        "\n",
        "plt.style.use('ggplot')\n",
        "\n",
        "plt.title('loss')\n",
        "\n",
        "plt.show()"
      ],
      "outputs": [
        {
          "output_type": "display_data",
          "data": {
            "text/plain": [
              "<Figure size 720x720 with 1 Axes>"
            ],
            "image/png": "[encoded data removed]"
          },
          "metadata": {
            "needs_background": "light"
          }
        }
      ],
      "execution_count": 57,
      "metadata": {
        "id": "qDe2LkKoe9zQ",
        "outputId": "b83772f6-aae3-41b3-ee34-67c8d414fd03",
        "colab": {
          "base_uri": "https://localhost:8080/",
          "height": 609
        }
      }
    },
    {
      "cell_type": "markdown",
      "source": [
        "## What food strategy does the agent converge to?"
      ],
      "metadata": {
        "id": "zlZ2OODve9zR"
      }
    },
    {
      "cell_type": "code",
      "source": [
        "food_policies[-1]"
      ],
      "outputs": [
        {
          "output_type": "execute_result",
          "data": {
            "text/plain": [
              "array([0.70802099, 0.2851316 , 0.35634246, 0.40297303, 0.44110337,\n",
              "       0.16977029, 0.50495124, 0.58794963, 0.53227019, 0.73745322,\n",
              "       0.33256438, 0.58320993, 0.41889831, 0.99440312, 0.69152039,\n",
              "       0.47047076, 0.99439591, 0.54927033, 0.4347899 , 0.42803824,\n",
              "       0.71890765, 0.73651695, 0.63744617, 0.48619255])"
            ]
          },
          "metadata": {},
          "execution_count": 58
        }
      ],
      "execution_count": 58,
      "metadata": {
        "outputHidden": false,
        "inputHidden": false,
        "id": "PtynzE5me9zS",
        "outputId": "61cbb39f-9748-41b0-ae93-897d3fbb5b7f",
        "colab": {
          "base_uri": "https://localhost:8080/"
        }
      }
    },
    {
      "cell_type": "code",
      "source": [
        "def hunt(s_p):\n",
        "  return np.random.choice((0.0,1.0),size=24,p=(1-s_p,s_p))\n",
        "print(hunt(success_probability))"
      ],
      "metadata": {
        "id": "JMLlH5cXhMRU",
        "outputId": "94f031ed-2898-4d2d-95f8-aa972bb40be6",
        "colab": {
          "base_uri": "https://localhost:8080/"
        }
      },
      "execution_count": 66,
      "outputs": [
        {
          "output_type": "stream",
          "name": "stdout",
          "text": [
            "[0. 0. 0. 0. 0. 0. 0. 1. 0. 0. 1. 0. 0. 0. 0. 1. 0. 0. 0. 1. 0. 0. 0. 1.]\n"
          ]
        }
      ]
    },
    {
      "cell_type": "code",
      "source": [
        "#help(np.random.choice)"
      ],
      "metadata": {
        "id": "iH5Jpdunhs9T"
      },
      "execution_count": 60,
      "outputs": []
    },
    {
      "cell_type": "code",
      "source": [
        "np.mean([np.dot(food_policies[-1],hunt(success_probability)) for i in range(100)])"
      ],
      "outputs": [
        {
          "output_type": "execute_result",
          "data": {
            "text/plain": [
              "2.593306453227997"
            ]
          },
          "metadata": {},
          "execution_count": 68
        }
      ],
      "execution_count": 68,
      "metadata": {
        "outputHidden": false,
        "inputHidden": false,
        "id": "_PxkEI6ve9zT",
        "outputId": "1876d2a3-4d1e-4ea0-be41-4b4124f7b043",
        "colab": {
          "base_uri": "https://localhost:8080/"
        }
      }
    },
    {
      "cell_type": "markdown",
      "source": [
        "### Note that the discovered food policy differs significantly from Romain's expectation that the agent would choose to not look for food in order to minimise surprisal. In fact, our simple agent manages to get three meals per day on average. "
      ],
      "metadata": {
        "id": "jZk9m_XMe9zU"
      }
    },
    {
      "cell_type": "code",
      "source": [],
      "metadata": {
        "id": "j-v6ppVwrvl2"
      },
      "execution_count": null,
      "outputs": []
    }
  ],
  "metadata": {
    "kernel_info": {
      "name": "python3"
    },
    "kernelspec": {
      "name": "python3",
      "language": "python",
      "display_name": "Python 3"
    },
    "language_info": {
      "name": "python",
      "version": "3.6.1",
      "mimetype": "text/x-python",
      "codemirror_mode": {
        "name": "ipython",
        "version": 3
      },
      "pygments_lexer": "ipython3",
      "nbconvert_exporter": "python",
      "file_extension": ".py"
    },
    "nteract": {
      "version": "0.8.4"
    },
    "colab": {
      "provenance": []
    }
  },
  "nbformat": 4,
  "nbformat_minor": 0
}